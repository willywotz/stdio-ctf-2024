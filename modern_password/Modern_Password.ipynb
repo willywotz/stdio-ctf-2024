{
  "nbformat": 4,
  "nbformat_minor": 0,
  "metadata": {
    "colab": {
      "provenance": []
    },
    "kernelspec": {
      "name": "python3",
      "display_name": "Python 3"
    },
    "language_info": {
      "name": "python"
    }
  },
  "cells": [
    {
      "cell_type": "code",
      "source": [
        "# @title Modern Password\n",
        "# @markdown `🠜 Click play button (▷) to run.`\n",
        "# @markdown `🠋 Put correct password to get flag`\n",
        "URL_PASSWORD = \"https://upload.wikimedia.org/wikipedia/commons/thumb/0/05/Cat.png/307px-Cat.png\" # @param {type:\"string\"}\n",
        "\n",
        "import torch\n",
        "import torchvision\n",
        "from PIL import Image\n",
        "import requests\n",
        "\n",
        "\n",
        "class Decoder(torch.nn.Module):\n",
        "    def __init__(self):\n",
        "        super().__init__()\n",
        "        self.training = False\n",
        "        self.flag = torch.Tensor([\n",
        "            0x2c, 0x2b, 0xff, 0x5e, 0xa0, 0xd4, 0x86, 0x98, 0x93,\n",
        "            0x7a, 0x72, 0x16, 0xcc, 0x65, 0x76, 0x5e, 0x28, 0x4f,\n",
        "            0x2e, 0x39, 0x78, 0xf6, 0x15, 0xda, 0x6e, 0x35, 0x6d,\n",
        "            0xd6, 0x83, 0xdf, 0x2a, 0x67, 0xd5, 0x60, 0xeb, 0x9a\n",
        "        ]).int()\n",
        "\n",
        "    def forward(self, x):\n",
        "        torch.manual_seed(x)\n",
        "        x = torch.nn.Embedding(0o1750, 0o44, padding_idx=0)(x)\n",
        "        x = torch.abs(255 * x).int() % 0xFF\n",
        "        if x.sum() != 0o7617:\n",
        "            return \"Access denied - please provide correct password\"\n",
        "        return (\n",
        "            \"Access granted - here is the flag: \"\n",
        "            + f\"STDIO2024_11{{{ ''.join([chr(c) for c in (x ^ self.flag).tolist()]) }}}\"\n",
        "        )\n",
        "\n",
        "\n",
        "class ModernPassword(torch.nn.Module):\n",
        "    def __init__(self):\n",
        "        super().__init__()\n",
        "        self.training = False\n",
        "        self.backbone = torchvision.models.mobilenet_v2(weights=torchvision.models.MobileNet_V2_Weights.DEFAULT, progress=False)\n",
        "        self.backbone.eval()\n",
        "        self.decoder = Decoder()\n",
        "        self.prep = torchvision.transforms.Compose([\n",
        "            torchvision.transforms.Resize(256),\n",
        "            torchvision.transforms.CenterCrop(224),\n",
        "            torchvision.transforms.ToTensor(),\n",
        "            torchvision.transforms.Normalize(mean=[0.485, 0.456, 0.406], std=[0.229, 0.224, 0.225]),\n",
        "        ])\n",
        "\n",
        "    def forward(self, url):\n",
        "        try:\n",
        "            img = Image.open(requests.get(url, stream=True, headers={'User-Agent': 'STDIO2024'}).raw)\n",
        "            out = self.prep(img).unsqueeze(0)\n",
        "            assert out.shape == (1,3,224,224)\n",
        "        except:\n",
        "            return \"Access denied - error loading image from URL\"\n",
        "        return self.decoder(torch.argmax(self.backbone(out)))\n",
        "\n",
        "\n",
        "model = ModernPassword()\n",
        "print(model(URL_PASSWORD))"
      ],
      "metadata": {
        "colab": {
          "base_uri": "https://localhost:8080/"
        },
        "cellView": "form",
        "id": "uBMkulNkItK9",
        "outputId": "e12662d0-9c8d-4b0f-9338-6f94f9cc0259"
      },
      "execution_count": null,
      "outputs": [
        {
          "output_type": "stream",
          "name": "stdout",
          "text": [
            "Access denied - please provide correct password\n"
          ]
        }
      ]
    }
  ]
}